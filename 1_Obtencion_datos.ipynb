{
  "cells": [
    {
      "cell_type": "markdown",
      "metadata": {
        "id": "view-in-github",
        "colab_type": "text"
      },
      "source": [
        "<a href=\"https://colab.research.google.com/github/CarlosBaez11/Carlos_Baez_C/blob/main/1_Obtencion_datos.ipynb\" target=\"_parent\"><img src=\"https://colab.research.google.com/assets/colab-badge.svg\" alt=\"Open In Colab\"/></a>"
      ]
    },
    {
      "cell_type": "markdown",
      "source": [],
      "metadata": {
        "id": "yfXL_fZ2rhY0"
      }
    },
    {
      "cell_type": "markdown",
      "source": [
        "#Instalación de paquetes "
      ],
      "metadata": {
        "id": "K6J70BVVgIrv"
      }
    },
    {
      "cell_type": "markdown",
      "source": [
        "Vamos a trabajar con una librería para la visualización y filtrado de las imágenes llamada fiftyone, junto con un complemento para poder realizar descargar de archivos almacenados en Google Drive, por tanto los instalamos, e importamos las librerías que ya están dentro de la máquina virtual de Google Colab"
      ],
      "metadata": {
        "id": "N6SE63Y4hdbS"
      }
    },
    {
      "cell_type": "code",
      "execution_count": null,
      "metadata": {
        "id": "hQkNBeoO7UlP",
        "colab": {
          "base_uri": "https://localhost:8080/"
        },
        "outputId": "550358c1-b719-414f-8f85-6e69551b299a"
      },
      "outputs": [
        {
          "output_type": "stream",
          "name": "stdout",
          "text": [
            "Looking in indexes: https://pypi.org/simple, https://us-python.pkg.dev/colab-wheels/public/simple/\n",
            "Requirement already satisfied: fiftyone in /usr/local/lib/python3.7/dist-packages (0.18.0)\n",
            "Requirement already satisfied: scikit-learn in /usr/local/lib/python3.7/dist-packages (from fiftyone) (1.0.2)\n",
            "Requirement already satisfied: sse-starlette<1,>=0.10.3 in /usr/local/lib/python3.7/dist-packages (from fiftyone) (0.10.3)\n",
            "Requirement already satisfied: Pillow>=6.2 in /usr/local/lib/python3.7/dist-packages (from fiftyone) (7.1.2)\n",
            "Requirement already satisfied: PyYAML in /usr/local/lib/python3.7/dist-packages (from fiftyone) (6.0)\n",
            "Requirement already satisfied: boto3 in /usr/local/lib/python3.7/dist-packages (from fiftyone) (1.26.8)\n",
            "Requirement already satisfied: tabulate in /usr/local/lib/python3.7/dist-packages (from fiftyone) (0.8.10)\n",
            "Requirement already satisfied: ndjson in /usr/local/lib/python3.7/dist-packages (from fiftyone) (0.3.1)\n",
            "Requirement already satisfied: fiftyone-brain<0.10,>=0.9.2 in /usr/local/lib/python3.7/dist-packages (from fiftyone) (0.9.2)\n",
            "Requirement already satisfied: strawberry-graphql==0.138.1 in /usr/local/lib/python3.7/dist-packages (from fiftyone) (0.138.1)\n",
            "Requirement already satisfied: opencv-python-headless in /usr/local/lib/python3.7/dist-packages (from fiftyone) (4.6.0.66)\n",
            "Requirement already satisfied: packaging in /usr/local/lib/python3.7/dist-packages (from fiftyone) (21.3)\n",
            "Requirement already satisfied: pytz in /usr/local/lib/python3.7/dist-packages (from fiftyone) (2022.6)\n",
            "Requirement already satisfied: Deprecated in /usr/local/lib/python3.7/dist-packages (from fiftyone) (1.2.13)\n",
            "Requirement already satisfied: scikit-image in /usr/local/lib/python3.7/dist-packages (from fiftyone) (0.18.3)\n",
            "Requirement already satisfied: Jinja2>=3 in /usr/local/lib/python3.7/dist-packages (from fiftyone) (3.1.2)\n",
            "Requirement already satisfied: hypercorn>=0.13.2 in /usr/local/lib/python3.7/dist-packages (from fiftyone) (0.14.3)\n",
            "Requirement already satisfied: eventlet in /usr/local/lib/python3.7/dist-packages (from fiftyone) (0.33.1)\n",
            "Requirement already satisfied: voxel51-eta<0.9,>=0.8.1 in /usr/local/lib/python3.7/dist-packages (from fiftyone) (0.8.1)\n",
            "Requirement already satisfied: universal-analytics-python3<2,>=1.0.1 in /usr/local/lib/python3.7/dist-packages (from fiftyone) (1.1.1)\n",
            "Requirement already satisfied: pprintpp in /usr/local/lib/python3.7/dist-packages (from fiftyone) (0.4.0)\n",
            "Requirement already satisfied: future in /usr/local/lib/python3.7/dist-packages (from fiftyone) (0.16.0)\n",
            "Requirement already satisfied: starlette==0.20.4 in /usr/local/lib/python3.7/dist-packages (from fiftyone) (0.20.4)\n",
            "Requirement already satisfied: kaleido in /usr/local/lib/python3.7/dist-packages (from fiftyone) (0.2.1)\n",
            "Requirement already satisfied: motor>=2.3 in /usr/local/lib/python3.7/dist-packages (from fiftyone) (3.1.1)\n",
            "Requirement already satisfied: aiofiles in /usr/local/lib/python3.7/dist-packages (from fiftyone) (22.1.0)\n",
            "Requirement already satisfied: dacite>=1.6.0 in /usr/local/lib/python3.7/dist-packages (from fiftyone) (1.6.0)\n",
            "Requirement already satisfied: plotly>=4.14 in /usr/local/lib/python3.7/dist-packages (from fiftyone) (5.5.0)\n",
            "Requirement already satisfied: fiftyone-db<0.5,>=0.4 in /usr/local/lib/python3.7/dist-packages (from fiftyone) (0.4.0)\n",
            "Requirement already satisfied: xmltodict in /usr/local/lib/python3.7/dist-packages (from fiftyone) (0.13.0)\n",
            "Requirement already satisfied: argcomplete in /usr/local/lib/python3.7/dist-packages (from fiftyone) (2.0.0)\n",
            "Requirement already satisfied: psutil in /usr/local/lib/python3.7/dist-packages (from fiftyone) (5.4.8)\n",
            "Requirement already satisfied: sseclient-py<2,>=1.7.2 in /usr/local/lib/python3.7/dist-packages (from fiftyone) (1.7.2)\n",
            "Requirement already satisfied: pandas in /usr/local/lib/python3.7/dist-packages (from fiftyone) (1.3.5)\n",
            "Requirement already satisfied: numpy in /usr/local/lib/python3.7/dist-packages (from fiftyone) (1.21.6)\n",
            "Requirement already satisfied: retrying in /usr/local/lib/python3.7/dist-packages (from fiftyone) (1.3.3)\n",
            "Requirement already satisfied: pymongo>=3.11 in /usr/local/lib/python3.7/dist-packages (from fiftyone) (4.3.2)\n",
            "Requirement already satisfied: setuptools in /usr/local/lib/python3.7/dist-packages (from fiftyone) (57.4.0)\n",
            "Requirement already satisfied: mongoengine==0.24.2 in /usr/local/lib/python3.7/dist-packages (from fiftyone) (0.24.2)\n",
            "Requirement already satisfied: matplotlib in /usr/local/lib/python3.7/dist-packages (from fiftyone) (3.2.2)\n",
            "Requirement already satisfied: typing-extensions>=3.10.0 in /usr/local/lib/python3.7/dist-packages (from starlette==0.20.4->fiftyone) (4.4.0)\n",
            "Requirement already satisfied: anyio<5,>=3.4.0 in /usr/local/lib/python3.7/dist-packages (from starlette==0.20.4->fiftyone) (3.6.2)\n",
            "Requirement already satisfied: python-dateutil<3.0.0,>=2.7.0 in /usr/local/lib/python3.7/dist-packages (from strawberry-graphql==0.138.1->fiftyone) (2.8.2)\n",
            "Requirement already satisfied: backports.cached-property<2.0.0,>=1.0.2 in /usr/local/lib/python3.7/dist-packages (from strawberry-graphql==0.138.1->fiftyone) (1.0.2)\n",
            "Requirement already satisfied: graphql-core<3.3.0,>=3.2.0 in /usr/local/lib/python3.7/dist-packages (from strawberry-graphql==0.138.1->fiftyone) (3.2.3)\n",
            "Requirement already satisfied: idna>=2.8 in /usr/local/lib/python3.7/dist-packages (from anyio<5,>=3.4.0->starlette==0.20.4->fiftyone) (2.10)\n",
            "Requirement already satisfied: sniffio>=1.1 in /usr/local/lib/python3.7/dist-packages (from anyio<5,>=3.4.0->starlette==0.20.4->fiftyone) (1.3.0)\n",
            "Requirement already satisfied: scipy>=1.2.0 in /usr/local/lib/python3.7/dist-packages (from fiftyone-brain<0.10,>=0.9.2->fiftyone) (1.7.3)\n",
            "Requirement already satisfied: toml in /usr/local/lib/python3.7/dist-packages (from hypercorn>=0.13.2->fiftyone) (0.10.2)\n",
            "Requirement already satisfied: h11 in /usr/local/lib/python3.7/dist-packages (from hypercorn>=0.13.2->fiftyone) (0.12.0)\n",
            "Requirement already satisfied: priority in /usr/local/lib/python3.7/dist-packages (from hypercorn>=0.13.2->fiftyone) (2.0.0)\n",
            "Requirement already satisfied: h2>=3.1.0 in /usr/local/lib/python3.7/dist-packages (from hypercorn>=0.13.2->fiftyone) (4.1.0)\n",
            "Requirement already satisfied: wsproto>=0.14.0 in /usr/local/lib/python3.7/dist-packages (from hypercorn>=0.13.2->fiftyone) (1.2.0)\n",
            "Requirement already satisfied: hyperframe<7,>=6.0 in /usr/local/lib/python3.7/dist-packages (from h2>=3.1.0->hypercorn>=0.13.2->fiftyone) (6.0.1)\n",
            "Requirement already satisfied: hpack<5,>=4.0 in /usr/local/lib/python3.7/dist-packages (from h2>=3.1.0->hypercorn>=0.13.2->fiftyone) (4.0.0)\n",
            "Requirement already satisfied: MarkupSafe>=2.0 in /usr/local/lib/python3.7/dist-packages (from Jinja2>=3->fiftyone) (2.0.1)\n",
            "Requirement already satisfied: six in /usr/local/lib/python3.7/dist-packages (from plotly>=4.14->fiftyone) (1.15.0)\n",
            "Requirement already satisfied: tenacity>=6.2.0 in /usr/local/lib/python3.7/dist-packages (from plotly>=4.14->fiftyone) (8.1.0)\n",
            "Requirement already satisfied: dnspython<3.0.0,>=1.16.0 in /usr/local/lib/python3.7/dist-packages (from pymongo>=3.11->fiftyone) (2.2.1)\n",
            "Requirement already satisfied: httpx>=0.10.0 in /usr/local/lib/python3.7/dist-packages (from universal-analytics-python3<2,>=1.0.1->fiftyone) (0.23.0)\n",
            "Requirement already satisfied: certifi in /usr/local/lib/python3.7/dist-packages (from httpx>=0.10.0->universal-analytics-python3<2,>=1.0.1->fiftyone) (2022.9.24)\n",
            "Requirement already satisfied: httpcore<0.16.0,>=0.15.0 in /usr/local/lib/python3.7/dist-packages (from httpx>=0.10.0->universal-analytics-python3<2,>=1.0.1->fiftyone) (0.15.0)\n",
            "Requirement already satisfied: rfc3986[idna2008]<2,>=1.3 in /usr/local/lib/python3.7/dist-packages (from httpx>=0.10.0->universal-analytics-python3<2,>=1.0.1->fiftyone) (1.5.0)\n",
            "Requirement already satisfied: importlib-metadata in /usr/local/lib/python3.7/dist-packages (from voxel51-eta<0.9,>=0.8.1->fiftyone) (4.13.0)\n",
            "Requirement already satisfied: tzlocal in /usr/local/lib/python3.7/dist-packages (from voxel51-eta<0.9,>=0.8.1->fiftyone) (1.5.1)\n",
            "Requirement already satisfied: requests in /usr/local/lib/python3.7/dist-packages (from voxel51-eta<0.9,>=0.8.1->fiftyone) (2.23.0)\n",
            "Requirement already satisfied: glob2 in /usr/local/lib/python3.7/dist-packages (from voxel51-eta<0.9,>=0.8.1->fiftyone) (0.7)\n",
            "Requirement already satisfied: dill in /usr/local/lib/python3.7/dist-packages (from voxel51-eta<0.9,>=0.8.1->fiftyone) (0.3.6)\n",
            "Requirement already satisfied: sortedcontainers in /usr/local/lib/python3.7/dist-packages (from voxel51-eta<0.9,>=0.8.1->fiftyone) (2.4.0)\n",
            "Requirement already satisfied: patool in /usr/local/lib/python3.7/dist-packages (from voxel51-eta<0.9,>=0.8.1->fiftyone) (1.12)\n",
            "Requirement already satisfied: urllib3 in /usr/local/lib/python3.7/dist-packages (from voxel51-eta<0.9,>=0.8.1->fiftyone) (1.25.11)\n",
            "Requirement already satisfied: zipp>=0.5 in /usr/local/lib/python3.7/dist-packages (from importlib-metadata->voxel51-eta<0.9,>=0.8.1->fiftyone) (3.10.0)\n",
            "Requirement already satisfied: jmespath<2.0.0,>=0.7.1 in /usr/local/lib/python3.7/dist-packages (from boto3->fiftyone) (1.0.1)\n",
            "Requirement already satisfied: s3transfer<0.7.0,>=0.6.0 in /usr/local/lib/python3.7/dist-packages (from boto3->fiftyone) (0.6.0)\n",
            "Requirement already satisfied: botocore<1.30.0,>=1.29.8 in /usr/local/lib/python3.7/dist-packages (from boto3->fiftyone) (1.29.8)\n",
            "Requirement already satisfied: wrapt<2,>=1.10 in /usr/local/lib/python3.7/dist-packages (from Deprecated->fiftyone) (1.14.1)\n",
            "Requirement already satisfied: greenlet>=0.3 in /usr/local/lib/python3.7/dist-packages (from eventlet->fiftyone) (2.0.1)\n",
            "Requirement already satisfied: pyparsing!=2.0.4,!=2.1.2,!=2.1.6,>=2.0.1 in /usr/local/lib/python3.7/dist-packages (from matplotlib->fiftyone) (3.0.9)\n",
            "Requirement already satisfied: kiwisolver>=1.0.1 in /usr/local/lib/python3.7/dist-packages (from matplotlib->fiftyone) (1.4.4)\n",
            "Requirement already satisfied: cycler>=0.10 in /usr/local/lib/python3.7/dist-packages (from matplotlib->fiftyone) (0.11.0)\n",
            "Requirement already satisfied: chardet<4,>=3.0.2 in /usr/local/lib/python3.7/dist-packages (from requests->voxel51-eta<0.9,>=0.8.1->fiftyone) (3.0.4)\n",
            "Requirement already satisfied: networkx>=2.0 in /usr/local/lib/python3.7/dist-packages (from scikit-image->fiftyone) (2.6.3)\n",
            "Requirement already satisfied: tifffile>=2019.7.26 in /usr/local/lib/python3.7/dist-packages (from scikit-image->fiftyone) (2021.11.2)\n",
            "Requirement already satisfied: PyWavelets>=1.1.1 in /usr/local/lib/python3.7/dist-packages (from scikit-image->fiftyone) (1.3.0)\n",
            "Requirement already satisfied: imageio>=2.3.0 in /usr/local/lib/python3.7/dist-packages (from scikit-image->fiftyone) (2.9.0)\n",
            "Requirement already satisfied: joblib>=0.11 in /usr/local/lib/python3.7/dist-packages (from scikit-learn->fiftyone) (1.2.0)\n",
            "Requirement already satisfied: threadpoolctl>=2.0.0 in /usr/local/lib/python3.7/dist-packages (from scikit-learn->fiftyone) (3.1.0)\n",
            "Looking in indexes: https://pypi.org/simple, https://us-python.pkg.dev/colab-wheels/public/simple/\n",
            "Requirement already satisfied: gdown in /usr/local/lib/python3.7/dist-packages (4.4.0)\n",
            "Requirement already satisfied: six in /usr/local/lib/python3.7/dist-packages (from gdown) (1.15.0)\n",
            "Requirement already satisfied: tqdm in /usr/local/lib/python3.7/dist-packages (from gdown) (4.64.1)\n",
            "Requirement already satisfied: requests[socks] in /usr/local/lib/python3.7/dist-packages (from gdown) (2.23.0)\n",
            "Requirement already satisfied: filelock in /usr/local/lib/python3.7/dist-packages (from gdown) (3.8.0)\n",
            "Requirement already satisfied: beautifulsoup4 in /usr/local/lib/python3.7/dist-packages (from gdown) (4.6.3)\n",
            "Requirement already satisfied: certifi>=2017.4.17 in /usr/local/lib/python3.7/dist-packages (from requests[socks]->gdown) (2022.9.24)\n",
            "Requirement already satisfied: chardet<4,>=3.0.2 in /usr/local/lib/python3.7/dist-packages (from requests[socks]->gdown) (3.0.4)\n",
            "Requirement already satisfied: urllib3!=1.25.0,!=1.25.1,<1.26,>=1.21.1 in /usr/local/lib/python3.7/dist-packages (from requests[socks]->gdown) (1.25.11)\n",
            "Requirement already satisfied: idna<3,>=2.5 in /usr/local/lib/python3.7/dist-packages (from requests[socks]->gdown) (2.10)\n",
            "Requirement already satisfied: PySocks!=1.5.7,>=1.5.6 in /usr/local/lib/python3.7/dist-packages (from requests[socks]->gdown) (1.7.1)\n"
          ]
        }
      ],
      "source": [
        "!pip install fiftyone\n",
        "!pip install gdown"
      ]
    },
    {
      "cell_type": "markdown",
      "source": [
        "**NOTA: Fiftyone suele presentar errores durante su instalación, lo que hace necesario que a veces después de instalarla, se tenga que reiniciar el entorno de ejecución**"
      ],
      "metadata": {
        "id": "aDOHuMIJh7OU"
      }
    },
    {
      "cell_type": "code",
      "execution_count": null,
      "metadata": {
        "id": "KuCyBl9N_zOB"
      },
      "outputs": [],
      "source": [
        "import fiftyone\n",
        "import fiftyone.zoo as zo\n",
        "import gdown\n",
        "from fiftyone import ViewField as F"
      ]
    },
    {
      "cell_type": "markdown",
      "source": [
        "##Descarga y filtrado del Dataset"
      ],
      "metadata": {
        "id": "worIAEVCluGZ"
      }
    },
    {
      "cell_type": "markdown",
      "source": [
        "##Descarga del Dataset"
      ],
      "metadata": {
        "id": "XVwPL1RMlypn"
      }
    },
    {
      "cell_type": "markdown",
      "source": [
        "No es necesario ejecutar la siguiente celda, ya que la coloqué para poder acceder a Drive y subir el Dataset filtrado"
      ],
      "metadata": {
        "id": "YAhwqLFdk9R1"
      }
    },
    {
      "cell_type": "code",
      "execution_count": null,
      "metadata": {
        "colab": {
          "base_uri": "https://localhost:8080/"
        },
        "id": "S_4dU1pHUlZZ",
        "outputId": "66c7cb91-313a-47cc-c634-be2826644846"
      },
      "outputs": [
        {
          "name": "stdout",
          "output_type": "stream",
          "text": [
            "Mounted at /gdrive\n"
          ]
        }
      ],
      "source": [
        "# from google.colab import drive\n",
        "# drive.mount('/gdrive')"
      ]
    },
    {
      "cell_type": "markdown",
      "source": [
        "Para ganar tiempo, consideré necesario almacenar el dataset en Goggle Drive. Por tanto tenemos que descargarlo del enlace"
      ],
      "metadata": {
        "id": "H2GzzLDAiUv1"
      }
    },
    {
      "cell_type": "code",
      "execution_count": null,
      "metadata": {
        "colab": {
          "base_uri": "https://localhost:8080/",
          "height": 105
        },
        "id": "eaZlzxSMUOEd",
        "outputId": "eb14e754-218b-4396-bc01-ac3bc1b78cc1"
      },
      "outputs": [
        {
          "output_type": "stream",
          "name": "stderr",
          "text": [
            "Downloading...\n",
            "From: https://drive.google.com/u/1/uc?id=1_Bv0k3Z5ANjIZTU5LhSIWJFqAfwyZG63&export=download\n",
            "To: /content/zip_frutas.zip\n",
            "100%|██████████| 6.58G/6.58G [00:46<00:00, 140MB/s]\n"
          ]
        },
        {
          "output_type": "execute_result",
          "data": {
            "text/plain": [
              "'/content/zip_frutas.zip'"
            ],
            "application/vnd.google.colaboratory.intrinsic+json": {
              "type": "string"
            }
          },
          "metadata": {},
          "execution_count": 3
        }
      ],
      "source": [
        "gdown.download( 'https://drive.google.com/u/1/uc?id=1_Bv0k3Z5ANjIZTU5LhSIWJFqAfwyZG63&export=download',\n",
        "               '/content/zip_frutas.zip', quiet=False )"
      ]
    },
    {
      "cell_type": "markdown",
      "source": [
        "Una vez descargado el dataset que estaba dentro de un archivo zip, lo extraemos."
      ],
      "metadata": {
        "id": "aMy2nTAlii7W"
      }
    },
    {
      "cell_type": "code",
      "execution_count": null,
      "metadata": {
        "id": "fHFCSkrdYXYY",
        "colab": {
          "base_uri": "https://localhost:8080/"
        },
        "outputId": "24b3a232-fc24-4f26-c3bb-52e85313ddcc"
      },
      "outputs": [
        {
          "output_type": "stream",
          "name": "stderr",
          "text": [
            "IOPub data rate exceeded.\n",
            "The notebook server will temporarily stop sending output\n",
            "to the client in order to avoid crashing it.\n",
            "To change this limit, set the config variable\n",
            "`--NotebookApp.iopub_data_rate_limit`.\n",
            "\n",
            "Current values:\n",
            "NotebookApp.iopub_data_rate_limit=1000000.0 (bytes/sec)\n",
            "NotebookApp.rate_limit_window=3.0 (secs)\n",
            "\n"
          ]
        }
      ],
      "source": [
        "%%bash\n",
        "unzip /content/zip_frutas.zip  "
      ]
    },
    {
      "cell_type": "markdown",
      "metadata": {
        "id": "axCYjLEgZ58b"
      },
      "source": [
        "Ahora vamos a crear un dataset con la libreria de fiftyone para poder visualizar mejor las imagenes y realizar un filtro a los datos. El dataset lo tenemos en forma de arbol de directorios, por tanto lo especificamos en los parámetros que recibe la librería de FiftyOne"
      ]
    },
    {
      "cell_type": "code",
      "execution_count": null,
      "metadata": {
        "colab": {
          "base_uri": "https://localhost:8080/"
        },
        "id": "zOox2693aF9L",
        "outputId": "ff45b8e9-b56b-4026-e99d-4d12918885ea"
      },
      "outputs": [
        {
          "output_type": "stream",
          "name": "stdout",
          "text": [
            " 100% |███████████| 225639/225639 [2.5m elapsed, 0s remaining, 1.4K samples/s]       \n"
          ]
        },
        {
          "output_type": "stream",
          "name": "stderr",
          "text": [
            "INFO:eta.core.utils: 100% |███████████| 225639/225639 [2.5m elapsed, 0s remaining, 1.4K samples/s]       \n"
          ]
        }
      ],
      "source": [
        "name='dataset_frutas' #Definimos el nombre del dataset\n",
        "dir='/content/Fruit-262' #Esta es la localizacion del directorio que contiene las imagenes\n",
        "\n",
        "dataset=fiftyone.Dataset.from_dir(dataset_dir=dir,\n",
        "                                  dataset_type=fiftyone.types.ImageClassificationDirectoryTree,\n",
        "                                  name='frutas1', label_field = \"ground_truth\" \n",
        "\n",
        "                                  \n",
        "                                  )"
      ]
    },
    {
      "cell_type": "markdown",
      "metadata": {
        "id": "EXY3BNgscAvw"
      },
      "source": [
        "Vamos a ver el contenido del dataset"
      ]
    },
    {
      "cell_type": "code",
      "execution_count": null,
      "metadata": {
        "id": "E5UNPyiXcDgx"
      },
      "outputs": [],
      "source": [
        "fiftyone.launch_app(dataset)"
      ]
    },
    {
      "cell_type": "markdown",
      "source": [
        "Podemos llamar al atributo **default classes** de los datasets de FiftyOne para obtener las clases que contiene dicho dataset"
      ],
      "metadata": {
        "id": "RUCRJao4kN8B"
      }
    },
    {
      "cell_type": "code",
      "execution_count": null,
      "metadata": {
        "id": "gBUFSbM-dafo"
      },
      "outputs": [],
      "source": [
        "dataset.default_classes"
      ]
    },
    {
      "cell_type": "markdown",
      "metadata": {
        "id": "IcWXi5Y_bojK"
      },
      "source": [
        "Definimos las clases con las cuales realizar el filtrado de imagenes para crear el nuevo dataset de entrenamiento"
      ]
    },
    {
      "cell_type": "code",
      "execution_count": null,
      "metadata": {
        "id": "3U5Y_4dNMsBg"
      },
      "outputs": [],
      "source": [
        "classes=['apple', 'papaya', 'lemon', 'orange', 'pear', 'strawberry', 'mango', 'banana', 'peach', 'plum', 'watermelon', 'grape', 'tangerine', 'kiwi', 'pineapple', 'lime'\n",
        ", 'pomegranade',  'cherry', 'tomato', 'lettuce', 'onion' , 'cucumber','carrot',  'garlic', 'guanabana', 'lime', 'lulo', 'raspberry', 'cherimoya', 'grenadilla','pumpkin', 'zucchini', 'tangelo', 'jalapeno', ''\n",
        "]"
      ]
    },
    {
      "cell_type": "markdown",
      "metadata": {
        "id": "OKW1Rb-Obxe3"
      },
      "source": [
        "Ahora vamos a filtrar las clases presentes en el Dataset utilizando el métd"
      ]
    },
    {
      "cell_type": "code",
      "execution_count": null,
      "metadata": {
        "id": "wrMXt4CkT2Td"
      },
      "outputs": [],
      "source": [
        "dataset_filt=dataset.filter_labels(\"ground_truth\", (F(\"label\").is_in(classes)))"
      ]
    },
    {
      "cell_type": "code",
      "execution_count": null,
      "metadata": {
        "colab": {
          "base_uri": "https://localhost:8080/"
        },
        "id": "BWSbilt3fq5V",
        "outputId": "dd56d3bc-a20c-49ed-b362-13cc253dc2e7"
      },
      "outputs": [
        {
          "output_type": "stream",
          "name": "stdout",
          "text": [
            "Dataset:     frutas1\n",
            "Media type:  image\n",
            "Num samples: 23668\n",
            "Sample fields:\n",
            "    id:           fiftyone.core.fields.ObjectIdField\n",
            "    filepath:     fiftyone.core.fields.StringField\n",
            "    tags:         fiftyone.core.fields.ListField(fiftyone.core.fields.StringField)\n",
            "    metadata:     fiftyone.core.fields.EmbeddedDocumentField(fiftyone.core.metadata.ImageMetadata)\n",
            "    ground_truth: fiftyone.core.fields.EmbeddedDocumentField(fiftyone.core.labels.Classification)\n",
            "View stages:\n",
            "    1. FilterLabels(field='ground_truth', filter={'$in': ['$ground_truth.label', [...]]}, only_matches=True, trajectories=False)\n"
          ]
        }
      ],
      "source": [
        "print(dataset_filt)"
      ]
    },
    {
      "cell_type": "code",
      "execution_count": null,
      "metadata": {
        "id": "R8YShpf8hnrN"
      },
      "outputs": [],
      "source": [
        "dataset_filt.default_classes"
      ]
    },
    {
      "cell_type": "code",
      "execution_count": null,
      "metadata": {
        "colab": {
          "base_uri": "https://localhost:8080/",
          "height": 822
        },
        "id": "qN7PtzBJeedl",
        "outputId": "38bf9606-a1d3-4682-d9ee-b2c095dc0ecb"
      },
      "outputs": [
        {
          "data": {
            "text/html": [
              "\n",
              "<style>\n",
              "\n",
              "@import url(\"https://fonts.googleapis.com/css2?family=Palanquin&display=swap\");\n",
              "\n",
              "#focontainer-f375cd7c-149f-4c80-b234-01a533f60d3d {\n",
              "  position: relative;\n",
              "  height: px;\n",
              "  display: block !important;\n",
              "}\n",
              "#foactivate-f375cd7c-149f-4c80-b234-01a533f60d3d {\n",
              "  font-weight: bold;\n",
              "  cursor: pointer;\n",
              "  font-size: 24px;\n",
              "  border-radius: 3px;\n",
              "  text-align: center;\n",
              "  padding: 0.5em;\n",
              "  color: rgb(255, 255, 255);\n",
              "  font-family: \"Palanquin\", sans-serif;\n",
              "  position: absolute;\n",
              "  left: 50%;\n",
              "  top: 50%;\n",
              "  width: 160px;\n",
              "  margin-left: -80px;\n",
              "  margin-top: -23px;\n",
              "  background: hsla(210,11%,15%, 0.8);\n",
              "  border: none;\n",
              "}\n",
              "#foactivate-f375cd7c-149f-4c80-b234-01a533f60d3d:focus {\n",
              "  outline: none;\n",
              "}\n",
              "#fooverlay-f375cd7c-149f-4c80-b234-01a533f60d3d {\n",
              "  width: 100%;\n",
              "  height: 100%;\n",
              "  background: hsla(208, 7%, 46%, 0.7);\n",
              "  position: absolute;\n",
              "  top: 0;\n",
              "  left: 0;\n",
              "  display: none;\n",
              "  cursor: pointer;\n",
              "}\n",
              "</style>\n",
              "<div id=\"focontainer-f375cd7c-149f-4c80-b234-01a533f60d3d\" style=\"display: none;\">\n",
              "   <div id=\"fooverlay-f375cd7c-149f-4c80-b234-01a533f60d3d\">\n",
              "      <button id=\"foactivate-f375cd7c-149f-4c80-b234-01a533f60d3d\" >Activate</button>\n",
              "   </div>\n",
              "</div>"
            ],
            "text/plain": [
              "<IPython.core.display.HTML object>"
            ]
          },
          "metadata": {},
          "output_type": "display_data"
        }
      ],
      "source": [
        "session=fiftyone.launch_app(dataset_filt)"
      ]
    },
    {
      "cell_type": "markdown",
      "metadata": {
        "id": "hFdkROP9f-ZU"
      },
      "source": [
        "Ahora vamos a exportar el dataset como arbol de directorios para clasificacion de imagenes"
      ]
    },
    {
      "cell_type": "code",
      "execution_count": null,
      "metadata": {
        "colab": {
          "base_uri": "https://localhost:8080/",
          "height": 235
        },
        "id": "ZcKQi133gIAl",
        "outputId": "98a9c7f5-a9aa-404c-e3b3-da6696dc44e2"
      },
      "outputs": [
        {
          "output_type": "error",
          "ename": "NameError",
          "evalue": "ignored",
          "traceback": [
            "\u001b[0;31m---------------------------------------------------------------------------\u001b[0m",
            "\u001b[0;31mNameError\u001b[0m                                 Traceback (most recent call last)",
            "\u001b[0;32m<ipython-input-1-132e3d6cf68a>\u001b[0m in \u001b[0;36m<module>\u001b[0;34m\u001b[0m\n\u001b[1;32m      3\u001b[0m \u001b[0;34m\u001b[0m\u001b[0m\n\u001b[1;32m      4\u001b[0m \u001b[0;31m# The dataset or view to export\u001b[0m\u001b[0;34m\u001b[0m\u001b[0;34m\u001b[0m\u001b[0;34m\u001b[0m\u001b[0m\n\u001b[0;32m----> 5\u001b[0;31m \u001b[0mdataset_or_view\u001b[0m \u001b[0;34m=\u001b[0m \u001b[0mdataset_filt\u001b[0m\u001b[0;34m\u001b[0m\u001b[0;34m\u001b[0m\u001b[0m\n\u001b[0m\u001b[1;32m      6\u001b[0m \u001b[0;34m\u001b[0m\u001b[0m\n\u001b[1;32m      7\u001b[0m \u001b[0;31m# Export the dataset\u001b[0m\u001b[0;34m\u001b[0m\u001b[0;34m\u001b[0m\u001b[0;34m\u001b[0m\u001b[0m\n",
            "\u001b[0;31mNameError\u001b[0m: name 'dataset_filt' is not defined"
          ]
        }
      ],
      "source": [
        "export_dir = \"/content/datasetfrutas_filtrado\"\n",
        "label_field = \"ground_truth\"  # for example\n",
        "\n",
        "# The dataset or view to export\n",
        "dataset_or_view = dataset_filt\n",
        "\n",
        "# Export the dataset\n",
        "dataset_or_view.export(\n",
        "    export_dir=export_dir,\n",
        "    dataset_type=fiftyone.types.ImageClassificationDirectoryTree,\n",
        "    # label_field=label_field,\n",
        ")"
      ]
    },
    {
      "cell_type": "code",
      "source": [
        "\n",
        "# Export the dataset\n",
        "dataset.export(\n",
        "    export_dir=export_dir,\n",
        "    dataset_type=fo.types.TFObjectDetectionDataset,\n",
        "    label_field=label_field,\n",
        ")"
      ],
      "metadata": {
        "colab": {
          "base_uri": "https://localhost:8080/",
          "height": 235
        },
        "id": "_SiOze-I4-Ro",
        "outputId": "c8a76adc-25e9-46ef-dc02-e4f05dc4d0b3"
      },
      "execution_count": null,
      "outputs": [
        {
          "output_type": "error",
          "ename": "NameError",
          "evalue": "ignored",
          "traceback": [
            "\u001b[0;31m---------------------------------------------------------------------------\u001b[0m",
            "\u001b[0;31mNameError\u001b[0m                                 Traceback (most recent call last)",
            "\u001b[0;32m<ipython-input-3-af9546671e87>\u001b[0m in \u001b[0;36m<module>\u001b[0;34m\u001b[0m\n\u001b[1;32m      1\u001b[0m \u001b[0;31m# Export the dataset\u001b[0m\u001b[0;34m\u001b[0m\u001b[0;34m\u001b[0m\u001b[0;34m\u001b[0m\u001b[0m\n\u001b[0;32m----> 2\u001b[0;31m dataset.export(\n\u001b[0m\u001b[1;32m      3\u001b[0m     \u001b[0mexport_dir\u001b[0m\u001b[0;34m=\u001b[0m\u001b[0mexport_dir\u001b[0m\u001b[0;34m,\u001b[0m\u001b[0;34m\u001b[0m\u001b[0;34m\u001b[0m\u001b[0m\n\u001b[1;32m      4\u001b[0m     \u001b[0mdataset_type\u001b[0m\u001b[0;34m=\u001b[0m\u001b[0mfo\u001b[0m\u001b[0;34m.\u001b[0m\u001b[0mtypes\u001b[0m\u001b[0;34m.\u001b[0m\u001b[0mTFObjectDetectionDataset\u001b[0m\u001b[0;34m,\u001b[0m\u001b[0;34m\u001b[0m\u001b[0;34m\u001b[0m\u001b[0m\n\u001b[1;32m      5\u001b[0m     \u001b[0mlabel_field\u001b[0m\u001b[0;34m=\u001b[0m\u001b[0mlabel_field\u001b[0m\u001b[0;34m,\u001b[0m\u001b[0;34m\u001b[0m\u001b[0;34m\u001b[0m\u001b[0m\n",
            "\u001b[0;31mNameError\u001b[0m: name 'dataset' is not defined"
          ]
        }
      ]
    },
    {
      "cell_type": "markdown",
      "metadata": {
        "id": "kWxszw9Tg8am"
      },
      "source": [
        "Ahora creamos un zip y lo eviamos a drive"
      ]
    },
    {
      "cell_type": "code",
      "execution_count": null,
      "metadata": {
        "id": "gdUqfjaVgiDj"
      },
      "outputs": [],
      "source": [
        "!zip  -r  /gdrive/MyDrive/dataset_def_def_def.zip       /content/datasetfrutas_filtrado"
      ]
    },
    {
      "cell_type": "code",
      "execution_count": null,
      "metadata": {
        "id": "rhoXHU1ff9dt"
      },
      "outputs": [],
      "source": []
    }
  ],
  "metadata": {
    "colab": {
      "collapsed_sections": [],
      "machine_shape": "hm",
      "provenance": [],
      "include_colab_link": true
    },
    "gpuClass": "standard",
    "kernelspec": {
      "display_name": "Python 3",
      "name": "python3"
    },
    "language_info": {
      "name": "python"
    }
  },
  "nbformat": 4,
  "nbformat_minor": 0
}