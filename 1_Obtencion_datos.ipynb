{
  "cells": [
    {
      "cell_type": "markdown",
      "metadata": {
        "id": "view-in-github",
        "colab_type": "text"
      },
      "source": [
        "<a href=\"https://colab.research.google.com/github/CarlosBaez11/Carlos_Baez_C/blob/main/1_Obtencion_datos.ipynb\" target=\"_parent\"><img src=\"https://colab.research.google.com/assets/colab-badge.svg\" alt=\"Open In Colab\"/></a>"
      ]
    },
    {
      "cell_type": "markdown",
      "source": [
        "<a href=\"https://githubtocolab.com/CarlosBaez11/geemap/blob/master/Carlos_Baez_C/1_Obtencion_datos.ipynb\" \n",
        "target=\"_parent\"><img src=\"https://colab.research.google.com/assets/colab-badge.svg\" alt=\"Open in Colab\"/></a>\n"
      ],
      "metadata": {
        "id": "uBI1pmlYpZDF"
      }
    },
    {
      "cell_type": "markdown",
      "source": [],
      "metadata": {
        "id": "JOlln_FBp7dO"
      }
    },
    {
      "cell_type": "markdown",
      "source": [
        "#Instalación de paquetes "
      ],
      "metadata": {
        "id": "K6J70BVVgIrv"
      }
    },
    {
      "cell_type": "markdown",
      "source": [
        "Vamos a trabajar con una librería para la visualización y filtrado de las imágenes llamada fiftyone, junto con un complemento para poder realizar descargar de archivos almacenados en Google Drive, por tanto los instalamos, e importamos las librerías que ya están dentro de la máquina virtual de Google Colab"
      ],
      "metadata": {
        "id": "N6SE63Y4hdbS"
      }
    },
    {
      "cell_type": "code",
      "execution_count": null,
      "metadata": {
        "id": "hQkNBeoO7UlP"
      },
      "outputs": [],
      "source": [
        "!pip install fiftyone\n",
        "!pip install gdown"
      ]
    },
    {
      "cell_type": "markdown",
      "source": [
        "**NOTA: Fiftyone suele presentar errores durante su instalación, lo que hace necesario que a veces después de instalarla, se tenga que reiniciar el entorno de ejecución**"
      ],
      "metadata": {
        "id": "aDOHuMIJh7OU"
      }
    },
    {
      "cell_type": "code",
      "execution_count": null,
      "metadata": {
        "id": "KuCyBl9N_zOB"
      },
      "outputs": [],
      "source": [
        "import fiftyone\n",
        "import fiftyone.zoo as zo\n",
        "import gdown\n",
        "from fiftyone import ViewField as F"
      ]
    },
    {
      "cell_type": "markdown",
      "source": [
        "##Descarga y filtrado del Dataset"
      ],
      "metadata": {
        "id": "worIAEVCluGZ"
      }
    },
    {
      "cell_type": "markdown",
      "source": [
        "##Descarga del Dataset"
      ],
      "metadata": {
        "id": "XVwPL1RMlypn"
      }
    },
    {
      "cell_type": "markdown",
      "source": [
        "No es necesario ejecutar la siguiente celda, ya que la coloqué para poder acceder a Drive y subir el Dataset filtrado"
      ],
      "metadata": {
        "id": "YAhwqLFdk9R1"
      }
    },
    {
      "cell_type": "code",
      "execution_count": null,
      "metadata": {
        "colab": {
          "base_uri": "https://localhost:8080/"
        },
        "id": "S_4dU1pHUlZZ",
        "outputId": "66c7cb91-313a-47cc-c634-be2826644846"
      },
      "outputs": [
        {
          "name": "stdout",
          "output_type": "stream",
          "text": [
            "Mounted at /gdrive\n"
          ]
        }
      ],
      "source": [
        "# from google.colab import drive\n",
        "# drive.mount('/gdrive')"
      ]
    },
    {
      "cell_type": "markdown",
      "source": [
        "Para ganar tiempo, consideré necesario almacenar el dataset en Goggle Drive. Por tanto tenemos que descargarlo del enlace"
      ],
      "metadata": {
        "id": "H2GzzLDAiUv1"
      }
    },
    {
      "cell_type": "code",
      "execution_count": null,
      "metadata": {
        "colab": {
          "base_uri": "https://localhost:8080/",
          "height": 105
        },
        "id": "eaZlzxSMUOEd",
        "outputId": "eb14e754-218b-4396-bc01-ac3bc1b78cc1"
      },
      "outputs": [
        {
          "output_type": "stream",
          "name": "stderr",
          "text": [
            "Downloading...\n",
            "From: https://drive.google.com/u/1/uc?id=1_Bv0k3Z5ANjIZTU5LhSIWJFqAfwyZG63&export=download\n",
            "To: /content/zip_frutas.zip\n",
            "100%|██████████| 6.58G/6.58G [00:46<00:00, 140MB/s]\n"
          ]
        },
        {
          "output_type": "execute_result",
          "data": {
            "text/plain": [
              "'/content/zip_frutas.zip'"
            ],
            "application/vnd.google.colaboratory.intrinsic+json": {
              "type": "string"
            }
          },
          "metadata": {},
          "execution_count": 3
        }
      ],
      "source": [
        "gdown.download( 'https://drive.google.com/u/1/uc?id=1_Bv0k3Z5ANjIZTU5LhSIWJFqAfwyZG63&export=download',\n",
        "               '/content/zip_frutas.zip', quiet=False )"
      ]
    },
    {
      "cell_type": "markdown",
      "source": [
        "Una vez descargado el dataset que estaba dentro de un archivo zip, lo extraemos."
      ],
      "metadata": {
        "id": "aMy2nTAlii7W"
      }
    },
    {
      "cell_type": "code",
      "execution_count": null,
      "metadata": {
        "id": "fHFCSkrdYXYY",
        "colab": {
          "base_uri": "https://localhost:8080/"
        },
        "outputId": "24b3a232-fc24-4f26-c3bb-52e85313ddcc"
      },
      "outputs": [
        {
          "output_type": "stream",
          "name": "stderr",
          "text": [
            "IOPub data rate exceeded.\n",
            "The notebook server will temporarily stop sending output\n",
            "to the client in order to avoid crashing it.\n",
            "To change this limit, set the config variable\n",
            "`--NotebookApp.iopub_data_rate_limit`.\n",
            "\n",
            "Current values:\n",
            "NotebookApp.iopub_data_rate_limit=1000000.0 (bytes/sec)\n",
            "NotebookApp.rate_limit_window=3.0 (secs)\n",
            "\n"
          ]
        }
      ],
      "source": [
        "%%bash\n",
        "unzip /content/zip_frutas.zip  "
      ]
    },
    {
      "cell_type": "markdown",
      "metadata": {
        "id": "axCYjLEgZ58b"
      },
      "source": [
        "Ahora vamos a crear un dataset con la libreria de fiftyone para poder visualizar mejor las imagenes y realizar un filtro a los datos. El dataset lo tenemos en forma de arbol de directorios, por tanto lo especificamos en los parámetros que recibe la librería de FiftyOne"
      ]
    },
    {
      "cell_type": "code",
      "execution_count": null,
      "metadata": {
        "colab": {
          "base_uri": "https://localhost:8080/"
        },
        "id": "zOox2693aF9L",
        "outputId": "ff45b8e9-b56b-4026-e99d-4d12918885ea"
      },
      "outputs": [
        {
          "output_type": "stream",
          "name": "stdout",
          "text": [
            " 100% |███████████| 225639/225639 [2.5m elapsed, 0s remaining, 1.4K samples/s]       \n"
          ]
        },
        {
          "output_type": "stream",
          "name": "stderr",
          "text": [
            "INFO:eta.core.utils: 100% |███████████| 225639/225639 [2.5m elapsed, 0s remaining, 1.4K samples/s]       \n"
          ]
        }
      ],
      "source": [
        "name='dataset_frutas' #Definimos el nombre del dataset\n",
        "dir='/content/Fruit-262' #Esta es la localizacion del directorio que contiene las imagenes\n",
        "\n",
        "dataset=fiftyone.Dataset.from_dir(dataset_dir=dir,\n",
        "                                  dataset_type=fiftyone.types.ImageClassificationDirectoryTree,\n",
        "                                  name='frutas1', label_field = \"ground_truth\" \n",
        "\n",
        "                                  \n",
        "                                  )"
      ]
    },
    {
      "cell_type": "markdown",
      "metadata": {
        "id": "EXY3BNgscAvw"
      },
      "source": [
        "Vamos a ver el contenido del dataset"
      ]
    },
    {
      "cell_type": "code",
      "execution_count": null,
      "metadata": {
        "id": "E5UNPyiXcDgx"
      },
      "outputs": [],
      "source": [
        "fiftyone.launch_app(dataset)"
      ]
    },
    {
      "cell_type": "markdown",
      "source": [
        "Podemos llamar al atributo **default classes** de los datasets de FiftyOne para obtener las clases que contiene dicho dataset"
      ],
      "metadata": {
        "id": "RUCRJao4kN8B"
      }
    },
    {
      "cell_type": "code",
      "execution_count": null,
      "metadata": {
        "id": "gBUFSbM-dafo"
      },
      "outputs": [],
      "source": [
        "dataset.default_classes"
      ]
    },
    {
      "cell_type": "markdown",
      "metadata": {
        "id": "IcWXi5Y_bojK"
      },
      "source": [
        "Definimos las clases con las cuales realizar el filtrado de imagenes para crear el nuevo dataset de entrenamiento"
      ]
    },
    {
      "cell_type": "code",
      "execution_count": null,
      "metadata": {
        "id": "3U5Y_4dNMsBg"
      },
      "outputs": [],
      "source": [
        "classes=['apple', 'papaya', 'lemon', 'orange', 'pear', 'strawberry', 'mango', 'banana', 'peach', 'plum', 'watermelon', 'grape', 'tangerine', 'kiwi', 'pineapple', 'lime'\n",
        ", 'pomegranade',  'cherry', 'tomato', 'lettuce', 'onion' , 'cucumber','carrot',  'garlic', 'guanabana', 'lime', 'lulo', 'raspberry', 'cherimoya', 'grenadilla','pumpkin', 'zucchini', 'tangelo', 'jalapeno', ''\n",
        "]"
      ]
    },
    {
      "cell_type": "markdown",
      "metadata": {
        "id": "OKW1Rb-Obxe3"
      },
      "source": [
        "Ahora vamos a filtrar las clases presentes en el Dataset utilizando el método de Filter Labels de fiftyone, para solo tener presentes las clases definidas anteriormente"
      ]
    },
    {
      "cell_type": "code",
      "execution_count": null,
      "metadata": {
        "id": "wrMXt4CkT2Td"
      },
      "outputs": [],
      "source": [
        "dataset_filt=dataset.filter_labels(\"ground_truth\", (F(\"label\").is_in(classes)))"
      ]
    },
    {
      "cell_type": "code",
      "execution_count": null,
      "metadata": {
        "colab": {
          "base_uri": "https://localhost:8080/"
        },
        "id": "BWSbilt3fq5V",
        "outputId": "dd56d3bc-a20c-49ed-b362-13cc253dc2e7"
      },
      "outputs": [
        {
          "output_type": "stream",
          "name": "stdout",
          "text": [
            "Dataset:     frutas1\n",
            "Media type:  image\n",
            "Num samples: 23668\n",
            "Sample fields:\n",
            "    id:           fiftyone.core.fields.ObjectIdField\n",
            "    filepath:     fiftyone.core.fields.StringField\n",
            "    tags:         fiftyone.core.fields.ListField(fiftyone.core.fields.StringField)\n",
            "    metadata:     fiftyone.core.fields.EmbeddedDocumentField(fiftyone.core.metadata.ImageMetadata)\n",
            "    ground_truth: fiftyone.core.fields.EmbeddedDocumentField(fiftyone.core.labels.Classification)\n",
            "View stages:\n",
            "    1. FilterLabels(field='ground_truth', filter={'$in': ['$ground_truth.label', [...]]}, only_matches=True, trajectories=False)\n"
          ]
        }
      ],
      "source": [
        "print(dataset_filt)"
      ]
    },
    {
      "cell_type": "markdown",
      "source": [
        "Ahora vamos a visualizar el contenido del nuevo dataset"
      ],
      "metadata": {
        "id": "V8BNg2zvnMcE"
      }
    },
    {
      "cell_type": "code",
      "execution_count": null,
      "metadata": {
        "id": "qN7PtzBJeedl"
      },
      "outputs": [],
      "source": [
        "session=fiftyone.launch_app(dataset_filt)"
      ]
    },
    {
      "cell_type": "markdown",
      "metadata": {
        "id": "hFdkROP9f-ZU"
      },
      "source": [
        "Ahora vamos a exportar el dataset como arbol de directorios para clasificacion de imagenes"
      ]
    },
    {
      "cell_type": "code",
      "execution_count": null,
      "metadata": {
        "colab": {
          "base_uri": "https://localhost:8080/"
        },
        "id": "ZcKQi133gIAl",
        "outputId": "2e6677a0-3095-4a1c-e343-66fa89780375"
      },
      "outputs": [
        {
          "output_type": "stream",
          "name": "stdout",
          "text": [
            " 100% |█████████████| 23668/23668 [26.9s elapsed, 0s remaining, 855.6 samples/s]      \n"
          ]
        },
        {
          "output_type": "stream",
          "name": "stderr",
          "text": [
            "INFO:eta.core.utils: 100% |█████████████| 23668/23668 [26.9s elapsed, 0s remaining, 855.6 samples/s]      \n"
          ]
        }
      ],
      "source": [
        "export_dir = \"/content/datasetfrutas_filtrado\"\n",
        "label_field = \"ground_truth\"  # for example\n",
        "\n",
        "# The dataset or view to export\n",
        "dataset_or_view = dataset_filt\n",
        "\n",
        "# Export the dataset\n",
        "dataset_or_view.export(\n",
        "    export_dir=export_dir,\n",
        "    dataset_type=fiftyone.types.ImageClassificationDirectoryTree,\n",
        "    # label_field=label_field,\n",
        ")"
      ]
    },
    {
      "cell_type": "markdown",
      "metadata": {
        "id": "kWxszw9Tg8am"
      },
      "source": [
        "Ahora creamos un zip y lo eviamos a drive. La siguiente linea de codigo no es necesario correrla, dado que solo está para almacenar el dataset en Drive para el posterior entrenamiento de la red Neuronal"
      ]
    },
    {
      "cell_type": "code",
      "execution_count": null,
      "metadata": {
        "id": "gdUqfjaVgiDj"
      },
      "outputs": [],
      "source": [
        "# !zip  -r  /gdrive/MyDrive/dataset_def_def_def.zip       /content/datasetfrutas_filtrado"
      ]
    },
    {
      "cell_type": "code",
      "execution_count": null,
      "metadata": {
        "id": "rhoXHU1ff9dt"
      },
      "outputs": [],
      "source": []
    }
  ],
  "metadata": {
    "colab": {
      "collapsed_sections": [],
      "machine_shape": "hm",
      "provenance": [],
      "include_colab_link": true
    },
    "gpuClass": "standard",
    "kernelspec": {
      "display_name": "Python 3",
      "name": "python3"
    },
    "language_info": {
      "name": "python"
    }
  },
  "nbformat": 4,
  "nbformat_minor": 0
}