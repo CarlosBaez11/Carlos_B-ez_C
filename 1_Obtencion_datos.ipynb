{
  "cells": [
    {
      "cell_type": "markdown",
      "metadata": {
        "id": "view-in-github",
        "colab_type": "text"
      },
      "source": [
        "<a href=\"https://colab.research.google.com/github/CarlosBaez11/Carlos_Baez_C/blob/main/1_Obtencion_datos.ipynb\" target=\"_parent\"><img src=\"https://colab.research.google.com/assets/colab-badge.svg\" alt=\"Open In Colab\"/></a>"
      ]
    },
    {
      "cell_type": "markdown",
      "source": [],
      "metadata": {
        "id": "yfXL_fZ2rhY0"
      }
    },
    {
      "cell_type": "markdown",
      "source": [
        "#Instalación de paquetes "
      ],
      "metadata": {
        "id": "K6J70BVVgIrv"
      }
    },
    {
      "cell_type": "markdown",
      "source": [
        "Vamos a trabajar con una librería para la visualización y filtrado de las imágenes llamada fiftyone, junto con un complemento para poder realizar descargar de archivos almacenados en Google Drive, por tanto los instalamos, e importamos las librerías que ya están dentro de la máquina virtual de Google Colab"
      ],
      "metadata": {
        "id": "N6SE63Y4hdbS"
      }
    },
    {
      "cell_type": "code",
      "execution_count": null,
      "metadata": {
        "id": "hQkNBeoO7UlP"
      },
      "outputs": [],
      "source": [
        "!pip install fiftyone\n",
        "!pip install gdown"
      ]
    },
    {
      "cell_type": "markdown",
      "source": [
        "**NOTA: Fiftyone suele presentar errores durante su instalación, lo que hace necesario que a veces después de instalarla, se tenga que reiniciar el entorno de ejecución**"
      ],
      "metadata": {
        "id": "aDOHuMIJh7OU"
      }
    },
    {
      "cell_type": "code",
      "execution_count": null,
      "metadata": {
        "id": "KuCyBl9N_zOB"
      },
      "outputs": [],
      "source": [
        "import fiftyone\n",
        "import fiftyone.zoo as zo\n",
        "import gdown\n",
        "from fiftyone import ViewField as F"
      ]
    },
    {
      "cell_type": "markdown",
      "source": [
        "##Descarga y filtrado del Dataset"
      ],
      "metadata": {
        "id": "worIAEVCluGZ"
      }
    },
    {
      "cell_type": "markdown",
      "source": [
        "##Descarga del Dataset"
      ],
      "metadata": {
        "id": "XVwPL1RMlypn"
      }
    },
    {
      "cell_type": "markdown",
      "source": [
        "No es necesario ejecutar la siguiente celda, ya que la coloqué para poder acceder a Drive y subir el Dataset filtrado"
      ],
      "metadata": {
        "id": "YAhwqLFdk9R1"
      }
    },
    {
      "cell_type": "code",
      "execution_count": null,
      "metadata": {
        "id": "S_4dU1pHUlZZ"
      },
      "outputs": [],
      "source": [
        "# from google.colab import drive\n",
        "# drive.mount('/gdrive')"
      ]
    },
    {
      "cell_type": "markdown",
      "source": [
        "Para ganar tiempo, consideré necesario almacenar el dataset en Goggle Drive. Por tanto tenemos que descargarlo del enlace"
      ],
      "metadata": {
        "id": "H2GzzLDAiUv1"
      }
    },
    {
      "cell_type": "code",
      "execution_count": null,
      "metadata": {
        "id": "eaZlzxSMUOEd"
      },
      "outputs": [],
      "source": [
        "gdown.download( 'https://drive.google.com/u/1/uc?id=1_Bv0k3Z5ANjIZTU5LhSIWJFqAfwyZG63&export=download',\n",
        "               '/content/zip_frutas.zip', quiet=False )"
      ]
    },
    {
      "cell_type": "markdown",
      "source": [
        "Una vez descargado el dataset que estaba dentro de un archivo zip, lo extraemos."
      ],
      "metadata": {
        "id": "aMy2nTAlii7W"
      }
    },
    {
      "cell_type": "code",
      "execution_count": null,
      "metadata": {
        "id": "fHFCSkrdYXYY"
      },
      "outputs": [],
      "source": [
        "%%bash\n",
        "unzip /content/zip_frutas.zip  "
      ]
    },
    {
      "cell_type": "markdown",
      "metadata": {
        "id": "axCYjLEgZ58b"
      },
      "source": [
        "Ahora vamos a crear un dataset con la libreria de fiftyone para poder visualizar mejor las imagenes y realizar un filtro a los datos. El dataset lo tenemos en forma de arbol de directorios, por tanto lo especificamos en los parámetros que recibe la librería de FiftyOne"
      ]
    },
    {
      "cell_type": "code",
      "execution_count": null,
      "metadata": {
        "id": "zOox2693aF9L"
      },
      "outputs": [],
      "source": [
        "name='dataset_frutas' #Definimos el nombre del dataset\n",
        "dir='/content/Fruit-262' #Esta es la localizacion del directorio que contiene las imagenes\n",
        "\n",
        "dataset=fiftyone.Dataset.from_dir(dataset_dir=dir,\n",
        "                                  dataset_type=fiftyone.types.ImageClassificationDirectoryTree,\n",
        "                                  name='frutas1', label_field = \"ground_truth\" \n",
        "\n",
        "                                  \n",
        "                                  )"
      ]
    },
    {
      "cell_type": "markdown",
      "metadata": {
        "id": "EXY3BNgscAvw"
      },
      "source": [
        "Vamos a ver el contenido del dataset"
      ]
    },
    {
      "cell_type": "code",
      "execution_count": null,
      "metadata": {
        "id": "E5UNPyiXcDgx"
      },
      "outputs": [],
      "source": [
        "fiftyone.launch_app(dataset)"
      ]
    },
    {
      "cell_type": "markdown",
      "source": [
        "Podemos llamar al atributo **default classes** de los datasets de FiftyOne para obtener las clases que contiene dicho dataset"
      ],
      "metadata": {
        "id": "RUCRJao4kN8B"
      }
    },
    {
      "cell_type": "code",
      "execution_count": null,
      "metadata": {
        "id": "gBUFSbM-dafo"
      },
      "outputs": [],
      "source": [
        "dataset.default_classes"
      ]
    },
    {
      "cell_type": "markdown",
      "metadata": {
        "id": "IcWXi5Y_bojK"
      },
      "source": [
        "Definimos las clases con las cuales realizar el filtrado de imagenes para crear el nuevo dataset de entrenamiento"
      ]
    },
    {
      "cell_type": "code",
      "execution_count": null,
      "metadata": {
        "id": "3U5Y_4dNMsBg"
      },
      "outputs": [],
      "source": [
        "classes=['apple', 'papaya', 'lemon', 'orange', 'pear', 'strawberry', 'mango', 'banana', 'peach', 'plum', 'watermelon', 'grape', 'tangerine', 'kiwi', 'pineapple', 'lime'\n",
        ", 'pomegranade',  'cherry', 'tomato', 'lettuce', 'onion' , 'cucumber','carrot',  'garlic', 'guanabana', 'lime', 'lulo', 'raspberry', 'cherimoya', 'grenadilla','pumpkin', 'zucchini', 'tangelo', 'jalapeno', ''\n",
        "]"
      ]
    },
    {
      "cell_type": "markdown",
      "metadata": {
        "id": "OKW1Rb-Obxe3"
      },
      "source": [
        "Ahora vamos a filtrar las clases presentes en el Dataset utilizando el métd"
      ]
    },
    {
      "cell_type": "code",
      "execution_count": null,
      "metadata": {
        "id": "wrMXt4CkT2Td"
      },
      "outputs": [],
      "source": [
        "dataset_filt=dataset.filter_labels(\"ground_truth\", (F(\"label\").is_in(classes)))"
      ]
    },
    {
      "cell_type": "code",
      "execution_count": null,
      "metadata": {
        "id": "BWSbilt3fq5V"
      },
      "outputs": [],
      "source": [
        "print(dataset_filt)"
      ]
    },
    {
      "cell_type": "code",
      "execution_count": null,
      "metadata": {
        "id": "qN7PtzBJeedl"
      },
      "outputs": [],
      "source": [
        "session=fiftyone.launch_app(dataset_filt)"
      ]
    },
    {
      "cell_type": "markdown",
      "metadata": {
        "id": "hFdkROP9f-ZU"
      },
      "source": [
        "Ahora vamos a exportar el dataset como arbol de directorios para clasificacion de imagenes"
      ]
    },
    {
      "cell_type": "code",
      "execution_count": null,
      "metadata": {
        "id": "ZcKQi133gIAl"
      },
      "outputs": [],
      "source": [
        "export_dir = \"/content/datasetfrutas_filtrado\"\n",
        "\n",
        "dataset_or_view = dataset_filt\n",
        "\n",
        "dataset_or_view.export(\n",
        "    export_dir=export_dir,\n",
        "    dataset_type=fiftyone.types.ImageClassificationDirectoryTree,\n",
        "\n",
        ")"
      ]
    },
    {
      "cell_type": "markdown",
      "metadata": {
        "id": "kWxszw9Tg8am"
      },
      "source": [
        "Ahora creamos un zip y lo eviamos a drive. No es necesario ejecutar el siguiente código, dado que lo utilicé únicamente para almacenar el dataset filtrado en Drive"
      ]
    },
    {
      "cell_type": "code",
      "execution_count": null,
      "metadata": {
        "id": "gdUqfjaVgiDj"
      },
      "outputs": [],
      "source": [
        "# !zip  -r  /gdrive/MyDrive/dataset_def_def_def.zip       /content/datasetfrutas_filtrado"
      ]
    }
  ],
  "metadata": {
    "colab": {
      "collapsed_sections": [],
      "machine_shape": "hm",
      "provenance": [],
      "private_outputs": true,
      "toc_visible": true,
      "include_colab_link": true
    },
    "gpuClass": "standard",
    "kernelspec": {
      "display_name": "Python 3",
      "name": "python3"
    },
    "language_info": {
      "name": "python"
    }
  },
  "nbformat": 4,
  "nbformat_minor": 0
}